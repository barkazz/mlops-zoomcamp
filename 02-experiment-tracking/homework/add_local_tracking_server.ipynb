{
 "cells": [
  {
   "cell_type": "code",
   "execution_count": null,
   "id": "cc7906ab-3493-4a18-8190-067e3be13b7e",
   "metadata": {},
   "outputs": [],
   "source": []
  }
 ],
 "metadata": {
  "kernelspec": {
   "display_name": "",
   "name": ""
  },
  "language_info": {
   "name": ""
  }
 },
 "nbformat": 4,
 "nbformat_minor": 5
}
